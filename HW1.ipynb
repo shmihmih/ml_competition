{
 "cells": [
  {
   "cell_type": "code",
   "execution_count": 2,
   "id": "e78f23ef",
   "metadata": {},
   "outputs": [],
   "source": [
    "import numpy as np\n",
    "from sklearn.metrics import classification_report"
   ]
  },
  {
   "cell_type": "markdown",
   "id": "def6077c",
   "metadata": {},
   "source": [
    "# Задание 1"
   ]
  },
  {
   "cell_type": "markdown",
   "id": "3bbec053",
   "metadata": {},
   "source": [
    "**Описание задания**<br> Реализуем smape функцию и проверим как измениться значение ошибки в двух случая при отклонении на 1 значение вниз и вверх от истинного ответа"
   ]
  },
  {
   "cell_type": "code",
   "execution_count": 3,
   "id": "60fad058",
   "metadata": {},
   "outputs": [],
   "source": [
    "def smape(a, f):\n",
    "    return 1/len(a) * np.sum(2 * np.abs(f-a) / (np.abs(a) + np.abs(f))*100)"
   ]
  },
  {
   "cell_type": "markdown",
   "id": "3a873f90",
   "metadata": {},
   "source": [
    "Завышенный прогноз "
   ]
  },
  {
   "cell_type": "code",
   "execution_count": 5,
   "id": "264c39b4",
   "metadata": {},
   "outputs": [
    {
     "data": {
      "text/plain": [
       "1.6"
      ]
     },
     "execution_count": 5,
     "metadata": {},
     "output_type": "execute_result"
    }
   ],
   "source": [
    "actual = np.array([12, 13, 14, 15, 15])\n",
    "forecast = np.array([13, 13, 14, 15, 15])\n",
    "#calculate SMAPE\n",
    "smape(actual, forecast)"
   ]
  },
  {
   "cell_type": "markdown",
   "id": "71f479fa",
   "metadata": {},
   "source": [
    "Заниженный прогноз"
   ]
  },
  {
   "cell_type": "code",
   "execution_count": 6,
   "id": "86293cc1",
   "metadata": {},
   "outputs": [
    {
     "data": {
      "text/plain": [
       "1.7391304347826086"
      ]
     },
     "execution_count": 6,
     "metadata": {},
     "output_type": "execute_result"
    }
   ],
   "source": [
    "actual = np.array([12, 13, 14, 15, 15])\n",
    "forecast = np.array([11, 13, 14, 15, 15])\n",
    "\n",
    "#calculate SMAPE\n",
    "smape(actual, forecast)"
   ]
  },
  {
   "cell_type": "markdown",
   "id": "0bd4a590",
   "metadata": {},
   "source": [
    "**Вывод**<br>\n",
    "Метрика не является симметричной так как\n",
    "заниженный прогноз штрафуется сильнее чем завышенный"
   ]
  },
  {
   "cell_type": "markdown",
   "id": "8d855ca0",
   "metadata": {},
   "source": [
    "# Задание 2"
   ]
  },
  {
   "cell_type": "markdown",
   "id": "e3b28726",
   "metadata": {},
   "source": [
    "# Задание 3"
   ]
  },
  {
   "cell_type": "markdown",
   "id": "8a941f59",
   "metadata": {},
   "source": [
    "**Описание задания**<br> \n",
    "Подобрать такой alpha что accuracy, precision, recall, f-мера "
   ]
  },
  {
   "cell_type": "code",
   "execution_count": 7,
   "id": "6c6bc605",
   "metadata": {},
   "outputs": [],
   "source": [
    "y_true = [1, 1, 1, 1, 1]\n",
    "y_pred = [1, 1, 1, 1, 1]"
   ]
  },
  {
   "cell_type": "code",
   "execution_count": 8,
   "id": "7fc885fb",
   "metadata": {},
   "outputs": [
    {
     "name": "stdout",
     "output_type": "stream",
     "text": [
      "              precision    recall  f1-score   support\n",
      "\n",
      "           1       1.00      1.00      1.00         5\n",
      "\n",
      "    accuracy                           1.00         5\n",
      "   macro avg       1.00      1.00      1.00         5\n",
      "weighted avg       1.00      1.00      1.00         5\n",
      "\n"
     ]
    }
   ],
   "source": [
    "print(classification_report(y_true, y_pred))"
   ]
  },
  {
   "cell_type": "markdown",
   "id": "eae26b60",
   "metadata": {},
   "source": [
    "**Вывод**<br>\n",
    "значение alpha равно 1 <br>\n",
    "достигается при наличии только 1 класса"
   ]
  },
  {
   "cell_type": "markdown",
   "id": "5bf249e3",
   "metadata": {},
   "source": [
    "# Задание 4"
   ]
  },
  {
   "cell_type": "markdown",
   "id": "5b839e0b",
   "metadata": {},
   "source": [
    "# Задание 5"
   ]
  }
 ],
 "metadata": {
  "kernelspec": {
   "display_name": "Python 3",
   "language": "python",
   "name": "python3"
  },
  "language_info": {
   "codemirror_mode": {
    "name": "ipython",
    "version": 3
   },
   "file_extension": ".py",
   "mimetype": "text/x-python",
   "name": "python",
   "nbconvert_exporter": "python",
   "pygments_lexer": "ipython3",
   "version": "3.7.9"
  }
 },
 "nbformat": 4,
 "nbformat_minor": 5
}
